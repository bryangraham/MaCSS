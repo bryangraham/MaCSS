{
 "cells": [
  {
   "cell_type": "markdown",
   "id": "7d9897c3",
   "metadata": {},
   "source": [
    "## Problem Set 2\n",
    "_MaCSS 222 Applied Statistics II_\n",
    "_Spring 2025_\n",
    "\n",
    "This Problem Set will, like the first problem set utilize an extract from the 1997 cohort of the National Longitudinal Survey of Youth (NLSY97). This Notebook is designed to help you get started. Serving as a stub for your own solutions, completing the problem set will involve adding code and commentary to this notebook. Narrative answers to questions posed in the Problem Set can be included in markdown boxes in this notebook. For \"pencil and paper\" calculations you can either hand-write your answers and turn in a pdf-scan of them along with your Python Jupyter Notebook, or you can write you answers in LaTex in markdown boxes. Please see the pdf file for Problem Set 1 for instructions.\n",
    "<br>\n",
    "<br>\n",
    "If you are not already familiar with LaTex, I encourage you to learn the basics. Overleaf is a helpful online editing environment for LaTex which you can access as a UC Berkeley community member.\n",
    "<br>\n",
    "<br>\n",
    "The goals of this particular problem set are two fold. First, to review the basics of logistic regression analysis. Second, to gain practice using the boostrap in more complicated settings -- settings where traditional (i.e., analytic) methods of confidence interval and standard error construction are not possible."
   ]
  },
  {
   "cell_type": "code",
   "execution_count": 13,
   "id": "97df37a4",
   "metadata": {},
   "outputs": [],
   "source": [
    "# Load libraries\n",
    "import numpy as np\n",
    "import pandas as pd\n",
    "import scipy as sp\n",
    "import matplotlib.pyplot as plt\n",
    "import seaborn as sns"
   ]
  },
  {
   "cell_type": "markdown",
   "id": "8a9d9ef8",
   "metadata": {},
   "source": [
    "### Part I: Load NLSY97 extract"
   ]
  },
  {
   "cell_type": "code",
   "execution_count": 4,
   "id": "c7db6355",
   "metadata": {},
   "outputs": [],
   "source": [
    "# Directory where NLSY97 teaching extract file is located\n",
    "data =  '/Users/bgraham/Dropbox/Teaching/Berkeley_Courses/MaCSS/Data/'\n",
    "\n",
    "# Directory to save graphics files in\n",
    "graphics = '/Users/bgraham/Dropbox/Teaching/Berkeley_Courses/MaCSS/Graphics/'"
   ]
  },
  {
   "cell_type": "code",
   "execution_count": 5,
   "id": "f12b81cf",
   "metadata": {},
   "outputs": [],
   "source": [
    "# Load NLSY97 dataset\n",
    "nlsy97 = pd.read_csv(data+'nlsy97ss.csv') # Reading .csv as DataFrame"
   ]
  },
  {
   "cell_type": "code",
   "execution_count": 6,
   "id": "d8142ff0",
   "metadata": {},
   "outputs": [],
   "source": [
    "# Rename some columns and then form new dataframe with complete cases for key variables\n",
    "nlsy97.rename(columns={'avg_earn_2016_to_2020': 'earnings', 'hgc_at_age28': 'yrssch'}, inplace=True)\n"
   ]
  },
  {
   "cell_type": "code",
   "execution_count": 7,
   "id": "e89e9f0d",
   "metadata": {},
   "outputs": [
    {
     "data": {
      "text/html": [
       "<div>\n",
       "<style scoped>\n",
       "    .dataframe tbody tr th:only-of-type {\n",
       "        vertical-align: middle;\n",
       "    }\n",
       "\n",
       "    .dataframe tbody tr th {\n",
       "        vertical-align: top;\n",
       "    }\n",
       "\n",
       "    .dataframe thead th {\n",
       "        text-align: right;\n",
       "    }\n",
       "</style>\n",
       "<table border=\"1\" class=\"dataframe\">\n",
       "  <thead>\n",
       "    <tr style=\"text-align: right;\">\n",
       "      <th></th>\n",
       "      <th>hhid97</th>\n",
       "      <th>pid97</th>\n",
       "      <th>swgt</th>\n",
       "      <th>cs_smpl</th>\n",
       "      <th>earnings</th>\n",
       "      <th>yrssch</th>\n",
       "      <th>asvab</th>\n",
       "      <th>female</th>\n",
       "      <th>black</th>\n",
       "      <th>hispanic</th>\n",
       "      <th>birth_month</th>\n",
       "      <th>birth_year</th>\n",
       "    </tr>\n",
       "  </thead>\n",
       "  <tbody>\n",
       "    <tr>\n",
       "      <th>0</th>\n",
       "      <td>2</td>\n",
       "      <td>2</td>\n",
       "      <td>272178</td>\n",
       "      <td>1</td>\n",
       "      <td>140764.964069</td>\n",
       "      <td>14.0</td>\n",
       "      <td>58.483</td>\n",
       "      <td>0</td>\n",
       "      <td>0</td>\n",
       "      <td>1</td>\n",
       "      <td>July</td>\n",
       "      <td>1982</td>\n",
       "    </tr>\n",
       "    <tr>\n",
       "      <th>1</th>\n",
       "      <td>3</td>\n",
       "      <td>3</td>\n",
       "      <td>169357</td>\n",
       "      <td>1</td>\n",
       "      <td>34487.266323</td>\n",
       "      <td>14.0</td>\n",
       "      <td>27.978</td>\n",
       "      <td>1</td>\n",
       "      <td>0</td>\n",
       "      <td>1</td>\n",
       "      <td>September</td>\n",
       "      <td>1983</td>\n",
       "    </tr>\n",
       "    <tr>\n",
       "      <th>2</th>\n",
       "      <td>4</td>\n",
       "      <td>4</td>\n",
       "      <td>149099</td>\n",
       "      <td>1</td>\n",
       "      <td>45864.738658</td>\n",
       "      <td>13.0</td>\n",
       "      <td>37.012</td>\n",
       "      <td>1</td>\n",
       "      <td>0</td>\n",
       "      <td>1</td>\n",
       "      <td>February</td>\n",
       "      <td>1981</td>\n",
       "    </tr>\n",
       "    <tr>\n",
       "      <th>3</th>\n",
       "      <td>8</td>\n",
       "      <td>6</td>\n",
       "      <td>218371</td>\n",
       "      <td>1</td>\n",
       "      <td>23202.102210</td>\n",
       "      <td>14.0</td>\n",
       "      <td>22.001</td>\n",
       "      <td>1</td>\n",
       "      <td>0</td>\n",
       "      <td>1</td>\n",
       "      <td>January</td>\n",
       "      <td>1982</td>\n",
       "    </tr>\n",
       "    <tr>\n",
       "      <th>4</th>\n",
       "      <td>8</td>\n",
       "      <td>7</td>\n",
       "      <td>232055</td>\n",
       "      <td>1</td>\n",
       "      <td>0.000000</td>\n",
       "      <td>12.0</td>\n",
       "      <td>3.585</td>\n",
       "      <td>0</td>\n",
       "      <td>0</td>\n",
       "      <td>1</td>\n",
       "      <td>April</td>\n",
       "      <td>1983</td>\n",
       "    </tr>\n",
       "  </tbody>\n",
       "</table>\n",
       "</div>"
      ],
      "text/plain": [
       "   hhid97  pid97    swgt  cs_smpl       earnings  yrssch   asvab  female  \\\n",
       "0       2      2  272178        1  140764.964069    14.0  58.483       0   \n",
       "1       3      3  169357        1   34487.266323    14.0  27.978       1   \n",
       "2       4      4  149099        1   45864.738658    13.0  37.012       1   \n",
       "3       8      6  218371        1   23202.102210    14.0  22.001       1   \n",
       "4       8      7  232055        1       0.000000    12.0   3.585       0   \n",
       "\n",
       "   black  hispanic birth_month  birth_year  \n",
       "0      0         1        July        1982  \n",
       "1      0         1   September        1983  \n",
       "2      0         1    February        1981  \n",
       "3      0         1     January        1982  \n",
       "4      0         1       April        1983  "
      ]
     },
     "execution_count": 7,
     "metadata": {},
     "output_type": "execute_result"
    }
   ],
   "source": [
    "# Look at first few rows of dataset\n",
    "nlsy97[0:5]"
   ]
  },
  {
   "cell_type": "markdown",
   "id": "8a5aff70",
   "metadata": {},
   "source": [
    "### Part II: Predicting college attendance among those who have completed high school\n",
    "\n",
    "We are interested in building a simple model for whether an individual completes a 4-year college degree or not. Since a pre-requisite for attending college is complete high school, we will confine our analysis to the subset of NLSY97 respondents who have completed high school. "
   ]
  },
  {
   "cell_type": "code",
   "execution_count": 8,
   "id": "826c44d5",
   "metadata": {},
   "outputs": [],
   "source": [
    "# Find subset of respondents who completed high school; drop any remaining units with item non-response\n",
    "HS_Mask = (nlsy97['yrssch']>=12)\n",
    "nlsy97 = nlsy97[HS_Mask]\n",
    "nlsy97 = nlsy97.dropna()\n",
    "\n",
    "# Create dummy variable for completion of a 4-year degree (by age 28)\n",
    "nlsy97['college'] = 1*(nlsy97['yrssch']>=16)\n",
    "\n",
    "# Create asvab test score bins\n",
    "# Define bins and labels\n",
    "bins = [0, 25, 50, 75, 100]\n",
    "labels = ['asvab_Q1', 'asvab_Q2', 'asvab_Q3', 'asvab_Q4']\n",
    "nlsy97['asvab_level'] = pd.cut(nlsy97['asvab'], bins=bins, labels=labels, right=False)\n",
    "\n",
    "# Add constant to the dataframe\n",
    "nlsy97['intercept']=1"
   ]
  },
  {
   "cell_type": "markdown",
   "id": "6b25ab16",
   "metadata": {},
   "source": [
    "The pandas \"cuts\" command (used above), in conjunction with pandas \"crosstab\" command (used below), is very useful for explorating data analysis. Below we see that the [Armed Services Vocational Aptitude Battery (ASVAB)](https://nationalguard.com/practice-asvab) is highly predictive of college attendance. Among NLSY97 high school graduates, those with top-quartile asvab scores attended college at a rate of 65 percent, while those with bottom-quartile scores attend at a rate of 9 percent."
   ]
  },
  {
   "cell_type": "code",
   "execution_count": 10,
   "id": "921cff1f",
   "metadata": {},
   "outputs": [
    {
     "data": {
      "text/html": [
       "<div>\n",
       "<style scoped>\n",
       "    .dataframe tbody tr th:only-of-type {\n",
       "        vertical-align: middle;\n",
       "    }\n",
       "\n",
       "    .dataframe tbody tr th {\n",
       "        vertical-align: top;\n",
       "    }\n",
       "\n",
       "    .dataframe thead th {\n",
       "        text-align: right;\n",
       "    }\n",
       "</style>\n",
       "<table border=\"1\" class=\"dataframe\">\n",
       "  <thead>\n",
       "    <tr style=\"text-align: right;\">\n",
       "      <th>asvab_level</th>\n",
       "      <th>asvab_Q1</th>\n",
       "      <th>asvab_Q2</th>\n",
       "      <th>asvab_Q3</th>\n",
       "      <th>asvab_Q4</th>\n",
       "      <th>All</th>\n",
       "    </tr>\n",
       "    <tr>\n",
       "      <th>college</th>\n",
       "      <th></th>\n",
       "      <th></th>\n",
       "      <th></th>\n",
       "      <th></th>\n",
       "      <th></th>\n",
       "    </tr>\n",
       "  </thead>\n",
       "  <tbody>\n",
       "    <tr>\n",
       "      <th>0</th>\n",
       "      <td>0.905098</td>\n",
       "      <td>0.771341</td>\n",
       "      <td>0.582532</td>\n",
       "      <td>0.343358</td>\n",
       "      <td>0.656598</td>\n",
       "    </tr>\n",
       "    <tr>\n",
       "      <th>1</th>\n",
       "      <td>0.094902</td>\n",
       "      <td>0.228659</td>\n",
       "      <td>0.417468</td>\n",
       "      <td>0.656642</td>\n",
       "      <td>0.343402</td>\n",
       "    </tr>\n",
       "  </tbody>\n",
       "</table>\n",
       "</div>"
      ],
      "text/plain": [
       "asvab_level  asvab_Q1  asvab_Q2  asvab_Q3  asvab_Q4       All\n",
       "college                                                      \n",
       "0            0.905098  0.771341  0.582532  0.343358  0.656598\n",
       "1            0.094902  0.228659  0.417468  0.656642  0.343402"
      ]
     },
     "execution_count": 10,
     "metadata": {},
     "output_type": "execute_result"
    }
   ],
   "source": [
    "# College attendance by asvab quartile\n",
    "pd.crosstab(nlsy97['college'], nlsy97['asvab_level'], normalize='columns', margins=True)"
   ]
  },
  {
   "cell_type": "markdown",
   "id": "8e90a92a",
   "metadata": {},
   "source": [
    "Next we fit a simple logistic regression model for college attendance with gender, race and asvab score as predictors. Note the values of the \"solver\" and \"penality\" parameters in the sklearn LogisticRegression call. This is a textbook implementation."
   ]
  },
  {
   "cell_type": "code",
   "execution_count": 11,
   "id": "2170f2aa",
   "metadata": {},
   "outputs": [
    {
     "name": "stdout",
     "output_type": "stream",
     "text": [
      "Logistic Regression Results for College Attendence\n",
      "\n",
      "           Coefficient\n",
      "intercept    -3.049109\n",
      "female        0.449261\n",
      "black         0.005569\n",
      "hispanic     -0.186171\n",
      "asvab         0.040557\n"
     ]
    }
   ],
   "source": [
    "from sklearn.linear_model import LogisticRegression\n",
    "from sklearn.metrics import confusion_matrix\n",
    "\n",
    "X = nlsy97[['intercept', 'female', 'black', 'hispanic', 'asvab']]\n",
    "Y = nlsy97['college']\n",
    "\n",
    "model = LogisticRegression(solver='newton-cg', penalty=None, fit_intercept=False).fit(X,Y)\n",
    "model.coef_\n",
    "\n",
    "# Construct and display confusion matrix\n",
    "results = pd.DataFrame(model.coef_.reshape((-1,1)), index=X.columns.values, columns=['Coefficient'])\n",
    "print(\"Logistic Regression Results for College Attendence\")\n",
    "print(\"\")\n",
    "print(results)"
   ]
  },
  {
   "cell_type": "markdown",
   "id": "3efc51b2",
   "metadata": {},
   "source": [
    "The confusion matrix provides a simple measure of in sample prediction accuracy. We can also construct such a matrix for prediction accuracy in a hold-out sample."
   ]
  },
  {
   "cell_type": "code",
   "execution_count": 12,
   "id": "f88ea17a",
   "metadata": {},
   "outputs": [
    {
     "name": "stdout",
     "output_type": "stream",
     "text": [
      "Confusion Matrix\n",
      "\n",
      "             College (Pred)  High School (Pred)\n",
      "College                2782                 523\n",
      "High School             788                 959\n"
     ]
    }
   ],
   "source": [
    "matrix = confusion_matrix(nlsy97['college'], model.predict(X))\n",
    "\n",
    "# Row and column labels\n",
    "row_labels = ['College', 'High School']\n",
    "col_labels = ['College (Pred)', 'High School (Pred)']\n",
    "\n",
    "# Construct and display confusion matrix\n",
    "matrix = pd.DataFrame(matrix, index=row_labels, columns=col_labels)\n",
    "print(\"Confusion Matrix\")\n",
    "print(\"\")\n",
    "print(matrix)"
   ]
  },
  {
   "cell_type": "markdown",
   "id": "e25a84dd",
   "metadata": {},
   "source": [
    "### Part III: Bootstrap inference on average partial effect (APE) of Asvab percentile score"
   ]
  },
  {
   "cell_type": "markdown",
   "id": "a3e9f8b2",
   "metadata": {},
   "source": [
    "Our next task is to use our logit results to construct average partial (or average marginal) effect estimates. We will then use the bootstrap to construct confidence intervals and standard errors for them. For a general model the logit choice probability equals:\n",
    "$$\n",
    "\\Pr\\left(\\left.Y=1\\right.X=x\\right)=\\frac{\\exp\\left(x'\\gamma\\right)}{1+\\exp\\left(x'\\gamma\\right)}=\\frac{\\exp\\left(\\alpha+\\beta_{1}x_{1}+\\cdots+\\beta_{K}x_{K}\\right)}{1+\\exp\\left(\\alpha+\\beta_{1}x_{1}+\\cdots+\\beta_{K}x_{K}\\right)},\n",
    "$$\n",
    "The effect of an incremental increase in $X_k$, the k-th regressor, on the conditional probability that $Y=1$ equals:\n",
    "$$\n",
    "\\frac{\\partial\\Pr\\left(\\left.Y=1\\right.X=x\\right)}{\\partial x_{k}}=\\frac{\\exp\\left(\\alpha+\\beta_{1}x_{1}+\\cdots+\\beta_{K}x_{K}\\right)}{1+\\exp\\left(\\alpha+\\beta_{1}x_{1}+\\cdots+\\beta_{K}x_{K}\\right)}\\beta_{k}.\n",
    "$$\n",
    "This expression is a function of $x$. To get a summary measure we average over the marginal distribution of $X$ to get:\n",
    "$$\n",
    "\\delta_{k}^{\\mathrm{APE}}=\\mathbb{E}_{X}\\left[\\frac{\\partial\\Pr\\left(\\left.Y=1\\right.X\\right)}{\\partial X_{k}}\\right]=\\mathbb{E}_{X}\\left[\\frac{\\exp\\left(\\alpha+\\beta_{1}X_{1}+\\cdots+\\beta_{K}X_{K}\\right)}{1+\\exp\\left(\\alpha+\\beta_{1}X_{1}+\\cdots+\\beta_{K}X_{K}\\right)}\\beta_{k}\\right].\n",
    "$$\n",
    "We can estimate this object by replacing the unknown logit coefficients with our maximum likelihood estimates and the expectation over the marginal distribution of $X$ with the sample average. This yields:\n",
    "$$\n",
    "\\hat{\\delta}_{k}^{\\mathrm{APE}}=\\frac{1}{N}\\sum_{i=1}^{N}\\frac{\\exp\\left(\\hat{\\alpha}+\\hat{\\beta}_{1}X_{i1}+\\cdots+\\hat{\\beta}_{K}X_{iK}\\right)}{1+\\exp\\left(\\hat{\\alpha}+\\hat{\\beta}_{1}X_{i1}+\\cdots+\\hat{\\beta}_{K}X_{iK}\\right)}\\hat{\\beta}_{k}.\n",
    "$$\n",
    "The code below constructs this estimate and uses the boostrap to calculate a confidence interval for $\\delta_{k}^{\\mathrm{APE}}$ and a standard error for $\\hat{\\delta}_{k}^{\\mathrm{APE}}$."
   ]
  },
  {
   "cell_type": "code",
   "execution_count": 20,
   "id": "09260908",
   "metadata": {},
   "outputs": [
    {
     "name": "stdout",
     "output_type": "stream",
     "text": [
      "\n",
      "Logit estimate of the average partial effect of 1-unit increase asvab percentile: 0.0071\n",
      "\n",
      "       Asvab logit coef  Asvab APE\n",
      "0.025          0.037711   0.006837\n",
      "0.975          0.043462   0.007298\n",
      "\n",
      "A basic percentile boostrap confidence interval for asvab APE is: 0.006837 to 0.007298\n",
      "Standard error (from percentile interval): 0.000117\n",
      "\n",
      "A reverse percentile boostrap confidence interval for asvab APE is: 0.006932 to 0.007392\n",
      "Standard error (from reverse percentile interval): 0.000117\n"
     ]
    },
    {
     "data": {
      "image/png": "[encoded data removed]",
      "text/plain": [
       "<Figure size 700x700 with 3 Axes>"
      ]
     },
     "metadata": {},
     "output_type": "display_data"
    }
   ],
   "source": [
    "S = 1000                 # Number of bootstrap samples\n",
    "M = np.empty((S,2))      # Matrix with posterior draws of statistics of interest\n",
    "N = len(Y)               # Number of observations in dataset\n",
    "\n",
    "# Compute average partial effect of asvab score using observed sample-in-hand\n",
    "Xb = X @ model.coef_.T                                                      # Compute linear index\n",
    "ape_hat_asvab = np.mean((np.exp(Xb)/(1+np.exp(Xb))**2)*model.coef_[0,-1])   # Compute APE estimate\n",
    "\n",
    "print(\"\")\n",
    "print(f\"Logit estimate of the average partial effect of 1-unit increase asvab percentile: {ape_hat_asvab:.4f}\")\n",
    "\n",
    "# Perform s=1,...,S bootstrap simulations    \n",
    "for s in range (0,S):\n",
    "    sth_sample = nlsy97.sample(n=N, replace=True)  # Take bth bootstrap sample\n",
    "    X = sth_sample[['intercept', 'female', 'black', 'hispanic', 'asvab']]\n",
    "    Y = sth_sample['college']\n",
    "    model_s = LogisticRegression(solver='newton-cg', penalty=None, fit_intercept=False).fit(X,Y)\n",
    "    M[s,0] = model_s.coef_[0,-1]                                        # Save coef. on asvab  \n",
    "    Xs = X @ model_s.coef_.T                                            # Compute linear index\n",
    "    M[s,1] = np.mean((np.exp(Xs)/(1+np.exp(Xs))**2)*model.coef_[0,-1])  # sth bootstrap APE estimate \n",
    "    \n",
    "# Save Efron Bootstrap result in a dataframe\n",
    "EB=pd.DataFrame({'Asvab logit coef':M[:,0], 'Asvab APE':M[:,1]})\n",
    "\n",
    "alpha = 0.05                                                            # target size\n",
    "\n",
    "print(\"\")\n",
    "print(EB.quantile([alpha/2, 1-alpha/2]))\n",
    "\n",
    "# Construct percentile and reverse percentile confidence intervals\n",
    "lower_bnd = EB.quantile([alpha/2, 1-alpha/2]).iloc[(0,1)]\n",
    "upper_bnd = EB.quantile([alpha/2, 1-alpha/2]).iloc[(1,1)]\n",
    "print(\"\")\n",
    "print(f'A basic percentile boostrap confidence interval for asvab APE is: {lower_bnd:.6f} to {upper_bnd:.6f}')\n",
    "\n",
    "# Construct bootstrap standard error using the percentile interval\n",
    "norm_ref = sp.stats.norm(loc=0, scale=1)                         # Standard normal reference distribution\n",
    "se_ape = (upper_bnd-lower_bnd)/(norm_ref.ppf(1-alpha/2)-norm_ref.ppf(alpha/2))\n",
    "print(f'Standard error (from percentile interval): {se_ape:.6f}')\n",
    "\n",
    "lower_bnd = 2*ape_hat_asvab - EB.quantile([alpha/2, 1-alpha/2]).iloc[(1,1)]\n",
    "upper_bnd = 2*ape_hat_asvab - EB.quantile([alpha/2, 1-alpha/2]).iloc[(0,1)]\n",
    "print(\"\")\n",
    "print(f'A reverse percentile boostrap confidence interval for asvab APE is: {lower_bnd:.6f} to {upper_bnd:.6f}')\n",
    "\n",
    "# Construct bootstrap standard error using the reverse percentile interval\n",
    "se_ape = (upper_bnd-lower_bnd)/(norm_ref.ppf(1-alpha/2)-norm_ref.ppf(alpha/2))\n",
    "print(f'Standard error (from reverse percentile interval): {se_ape:.6f}')\n",
    "\n",
    "# Scatter (use seaborn add-on to matplotlib)\n",
    "sns.set_style(\"dark\", {'axes.linewidth': 2, 'axes.edgecolor':'black'})\n",
    "sns.jointplot(x=\"Asvab logit coef\",y=\"Asvab APE\", data=EB, kind=\"scatter\", \\\n",
    "              height=7, space=0.35, color=\"#003262\", xlim=(0.0325,0.0475), ylim=(0.0065,0.0075), marker='+',\n",
    "              marginal_ticks=True, marginal_kws=dict(bins=30, fill=True, color='#FDB515', linewidth=1))\n",
    "\n",
    "# Save the figure\n",
    "plt.savefig(graphics + 'Figure_Reverse Percentile_Bootstrap_Asvab_APE.png', dpi=300, bbox_inches='tight')\n",
    "plt.show()    "
   ]
  },
  {
   "cell_type": "markdown",
   "id": "11e6ecbf",
   "metadata": {},
   "source": [
    "### Part IV: Assessing `balance'"
   ]
  },
  {
   "cell_type": "markdown",
   "id": "454ccd99",
   "metadata": {},
   "source": [
    "This final snippet of code constructs a so-called propensity score balance plot. Plots like this one will feature in our discussion of program evaluation and covariate adjustment later in the semester. Note the use of the official [UC Berkeley color pallete](https://brand.berkeley.edu/visual-identity/colors/) in the plot!"
   ]
  },
  {
   "cell_type": "code",
   "execution_count": 21,
   "id": "f46f32c4",
   "metadata": {},
   "outputs": [],
   "source": [
    "X = nlsy97[['intercept', 'female', 'black', 'hispanic', 'asvab']]\n",
    "Y = nlsy97['college']\n",
    "\n",
    "model = LogisticRegression(solver='newton-cg', penalty=None, fit_intercept=False).fit(X,Y)\n",
    "model.coef_\n",
    "\n",
    "nlsy97['pscore'] = model.predict_proba(X)[:,1] # col 0 gives Pr(Y=0|X),  col 1 gives Pr(Y=1|X)\n",
    "ps_bins = [0, 0.1, 0.2, 0.3, 0.4, 0.5, 0.6, 0.7, 0.8, 0.9, 1]\n",
    "labels = ['ps_D01', 'ps_D02', 'ps_D03','ps_D04','ps_D05','ps_D06','ps_D07','ps_D08','ps_D09','ps_D10']\n",
    "nlsy97['ps_level'] = pd.cut(nlsy97['pscore'], bins=ps_bins, labels=labels, right=False)"
   ]
  },
  {
   "cell_type": "code",
   "execution_count": 22,
   "id": "3eff0592",
   "metadata": {},
   "outputs": [
    {
     "data": {
      "text/html": [
       "<div>\n",
       "<style scoped>\n",
       "    .dataframe tbody tr th:only-of-type {\n",
       "        vertical-align: middle;\n",
       "    }\n",
       "\n",
       "    .dataframe tbody tr th {\n",
       "        vertical-align: top;\n",
       "    }\n",
       "\n",
       "    .dataframe thead th {\n",
       "        text-align: right;\n",
       "    }\n",
       "</style>\n",
       "<table border=\"1\" class=\"dataframe\">\n",
       "  <thead>\n",
       "    <tr style=\"text-align: right;\">\n",
       "      <th>ps_level</th>\n",
       "      <th>ps_D01</th>\n",
       "      <th>ps_D02</th>\n",
       "      <th>ps_D03</th>\n",
       "      <th>ps_D04</th>\n",
       "      <th>ps_D05</th>\n",
       "      <th>ps_D06</th>\n",
       "      <th>ps_D07</th>\n",
       "      <th>ps_D08</th>\n",
       "      <th>ps_D09</th>\n",
       "      <th>All</th>\n",
       "    </tr>\n",
       "    <tr>\n",
       "      <th>college</th>\n",
       "      <th></th>\n",
       "      <th></th>\n",
       "      <th></th>\n",
       "      <th></th>\n",
       "      <th></th>\n",
       "      <th></th>\n",
       "      <th></th>\n",
       "      <th></th>\n",
       "      <th></th>\n",
       "      <th></th>\n",
       "    </tr>\n",
       "  </thead>\n",
       "  <tbody>\n",
       "    <tr>\n",
       "      <th>0</th>\n",
       "      <td>0.148258</td>\n",
       "      <td>0.175574</td>\n",
       "      <td>0.099565</td>\n",
       "      <td>0.069477</td>\n",
       "      <td>0.057799</td>\n",
       "      <td>0.045724</td>\n",
       "      <td>0.036421</td>\n",
       "      <td>0.019794</td>\n",
       "      <td>0.001584</td>\n",
       "      <td>0.654196</td>\n",
       "    </tr>\n",
       "    <tr>\n",
       "      <th>1</th>\n",
       "      <td>0.010293</td>\n",
       "      <td>0.032858</td>\n",
       "      <td>0.035629</td>\n",
       "      <td>0.035629</td>\n",
       "      <td>0.041568</td>\n",
       "      <td>0.054632</td>\n",
       "      <td>0.068488</td>\n",
       "      <td>0.060768</td>\n",
       "      <td>0.005938</td>\n",
       "      <td>0.345804</td>\n",
       "    </tr>\n",
       "    <tr>\n",
       "      <th>All</th>\n",
       "      <td>0.158551</td>\n",
       "      <td>0.208432</td>\n",
       "      <td>0.135194</td>\n",
       "      <td>0.105107</td>\n",
       "      <td>0.099367</td>\n",
       "      <td>0.100356</td>\n",
       "      <td>0.104909</td>\n",
       "      <td>0.080562</td>\n",
       "      <td>0.007522</td>\n",
       "      <td>1.000000</td>\n",
       "    </tr>\n",
       "  </tbody>\n",
       "</table>\n",
       "</div>"
      ],
      "text/plain": [
       "ps_level    ps_D01    ps_D02    ps_D03    ps_D04    ps_D05    ps_D06  \\\n",
       "college                                                                \n",
       "0         0.148258  0.175574  0.099565  0.069477  0.057799  0.045724   \n",
       "1         0.010293  0.032858  0.035629  0.035629  0.041568  0.054632   \n",
       "All       0.158551  0.208432  0.135194  0.105107  0.099367  0.100356   \n",
       "\n",
       "ps_level    ps_D07    ps_D08    ps_D09       All  \n",
       "college                                           \n",
       "0         0.036421  0.019794  0.001584  0.654196  \n",
       "1         0.068488  0.060768  0.005938  0.345804  \n",
       "All       0.104909  0.080562  0.007522  1.000000  "
      ]
     },
     "execution_count": 22,
     "metadata": {},
     "output_type": "execute_result"
    }
   ],
   "source": [
    "pd.crosstab(nlsy97['college'], nlsy97['ps_level'], normalize=True, margins=True)"
   ]
  },
  {
   "cell_type": "code",
   "execution_count": 23,
   "id": "173d825b",
   "metadata": {},
   "outputs": [
    {
     "data": {
      "image/png": "[encoded data removed]",
      "text/plain": [
       "<Figure size 640x480 with 1 Axes>"
      ]
     },
     "metadata": {},
     "output_type": "display_data"
    }
   ],
   "source": [
    "# Create propensity score balance figure\n",
    "fig, ax = plt.subplots()\n",
    "\n",
    "# Plot the histograms\n",
    "ax.hist(nlsy97['pscore'].loc[(nlsy97['college'] == 0)], bins=ps_bins, alpha=0.5, label='High School', color='#003262')\n",
    "ax.hist(nlsy97['pscore'].loc[(nlsy97['college'] == 1)], bins=ps_bins, alpha=0.5, label='College', color='#FDB515')\n",
    "\n",
    "# Add labels and title\n",
    "ax.set_xlabel('Propensity Score')\n",
    "ax.set_ylabel('Number of Observations')\n",
    "ax.set_title('Balancing Plot')\n",
    "\n",
    "# Add legend\n",
    "ax.legend()\n",
    "\n",
    "# Show the plot\n",
    "plt.show()"
   ]
  }
 ],
 "metadata": {
  "kernelspec": {
   "display_name": "Python 3",
   "language": "python",
   "name": "python3"
  },
  "language_info": {
   "codemirror_mode": {
    "name": "ipython",
    "version": 3
   },
   "file_extension": ".py",
   "mimetype": "text/x-python",
   "name": "python",
   "nbconvert_exporter": "python",
   "pygments_lexer": "ipython3",
   "version": "3.9.21"
  }
 },
 "nbformat": 4,
 "nbformat_minor": 5
}
