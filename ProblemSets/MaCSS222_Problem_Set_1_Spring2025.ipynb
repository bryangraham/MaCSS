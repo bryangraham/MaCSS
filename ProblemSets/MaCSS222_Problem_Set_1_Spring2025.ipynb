{
 "cells": [
  {
   "cell_type": "markdown",
   "id": "7d9897c3",
   "metadata": {},
   "source": [
    "## Problem Set 1\n",
    "_MaCSS 222 Applied Statistics II_\n",
    "_Spring 2025_\n",
    "\n",
    "This Problem Set will utilize an extract from the 1997 cohort of the National Longitudinal Survey of Youth (NLSY97). This Notebook is designed to help you get started. Serving as a stub for your own solutions, completing the problem set will involve adding code and commentary to this notebook. Narrative answers to questions posed in the Problem Set can be included in markdown boxes in this notebook. For \"pencil and paper\" calculations you can either hand-write your answers and turn in a pdf-scan of them along with your Python Jupyter Notebook, or you can write you answers in LaTex in markdown boxes. Please see the pdf file for Problem Set 1 for instructions.\n",
    "<br>\n",
    "<br>\n",
    "If you are not already familiar with LaTex, I encourage you to learn the basics. Overleaf is a helpful online editing environment for LaTex which you can access as a UC Berkeley community member."
   ]
  },
  {
   "cell_type": "code",
   "execution_count": 9,
   "id": "97df37a4",
   "metadata": {},
   "outputs": [],
   "source": [
    "# Load libraries\n",
    "import numpy as np\n",
    "import pandas as pd\n",
    "import matplotlib.pyplot as plt"
   ]
  },
  {
   "cell_type": "markdown",
   "id": "8a9d9ef8",
   "metadata": {},
   "source": [
    "### Part I: Analysis of NLSY97"
   ]
  },
  {
   "cell_type": "code",
   "execution_count": 10,
   "id": "c7db6355",
   "metadata": {},
   "outputs": [],
   "source": [
    "# Directory where NLSY97 teaching extract file is located\n",
    "data =  '/Users/bgraham/Dropbox/Teaching/Berkeley_Courses/MaCSS/Data/'\n",
    "\n",
    "# Directory to save graphics files in\n",
    "graphics = '/Users/bgraham/Dropbox/Teaching/Berkeley_Courses/MaCSS/Graphics/'"
   ]
  },
  {
   "cell_type": "code",
   "execution_count": 11,
   "id": "f12b81cf",
   "metadata": {},
   "outputs": [],
   "source": [
    "# Load NLSY97 dataset\n",
    "nlsy97 = pd.read_csv(data+'nlsy97ss.csv') # Reading .csv as DataFrame"
   ]
  },
  {
   "cell_type": "code",
   "execution_count": 12,
   "id": "d8142ff0",
   "metadata": {},
   "outputs": [],
   "source": [
    "# Rename some columns and then form new dataframe with complete cases for key variables\n",
    "nlsy97.rename(columns={'avg_earn_2016_to_2020': 'earnings', 'hgc_at_age28': 'yrssch'}, inplace=True)\n",
    "nlsy97 = nlsy97[['female','black','hispanic','yrssch','earnings']]\n",
    "nlsy97 = nlsy97.dropna()"
   ]
  },
  {
   "cell_type": "code",
   "execution_count": 13,
   "id": "e89e9f0d",
   "metadata": {},
   "outputs": [
    {
     "data": {
      "text/html": [
       "<div>\n",
       "<style scoped>\n",
       "    .dataframe tbody tr th:only-of-type {\n",
       "        vertical-align: middle;\n",
       "    }\n",
       "\n",
       "    .dataframe tbody tr th {\n",
       "        vertical-align: top;\n",
       "    }\n",
       "\n",
       "    .dataframe thead th {\n",
       "        text-align: right;\n",
       "    }\n",
       "</style>\n",
       "<table border=\"1\" class=\"dataframe\">\n",
       "  <thead>\n",
       "    <tr style=\"text-align: right;\">\n",
       "      <th></th>\n",
       "      <th>female</th>\n",
       "      <th>black</th>\n",
       "      <th>hispanic</th>\n",
       "      <th>yrssch</th>\n",
       "      <th>earnings</th>\n",
       "    </tr>\n",
       "  </thead>\n",
       "  <tbody>\n",
       "    <tr>\n",
       "      <th>0</th>\n",
       "      <td>0</td>\n",
       "      <td>0</td>\n",
       "      <td>1</td>\n",
       "      <td>14.0</td>\n",
       "      <td>140764.964069</td>\n",
       "    </tr>\n",
       "    <tr>\n",
       "      <th>1</th>\n",
       "      <td>1</td>\n",
       "      <td>0</td>\n",
       "      <td>1</td>\n",
       "      <td>14.0</td>\n",
       "      <td>34487.266323</td>\n",
       "    </tr>\n",
       "    <tr>\n",
       "      <th>2</th>\n",
       "      <td>1</td>\n",
       "      <td>0</td>\n",
       "      <td>1</td>\n",
       "      <td>13.0</td>\n",
       "      <td>45864.738658</td>\n",
       "    </tr>\n",
       "    <tr>\n",
       "      <th>3</th>\n",
       "      <td>1</td>\n",
       "      <td>0</td>\n",
       "      <td>1</td>\n",
       "      <td>14.0</td>\n",
       "      <td>23202.102210</td>\n",
       "    </tr>\n",
       "    <tr>\n",
       "      <th>4</th>\n",
       "      <td>0</td>\n",
       "      <td>0</td>\n",
       "      <td>1</td>\n",
       "      <td>12.0</td>\n",
       "      <td>0.000000</td>\n",
       "    </tr>\n",
       "  </tbody>\n",
       "</table>\n",
       "</div>"
      ],
      "text/plain": [
       "   female  black  hispanic  yrssch       earnings\n",
       "0       0      0         1    14.0  140764.964069\n",
       "1       1      0         1    14.0   34487.266323\n",
       "2       1      0         1    13.0   45864.738658\n",
       "3       1      0         1    14.0   23202.102210\n",
       "4       0      0         1    12.0       0.000000"
      ]
     },
     "execution_count": 13,
     "metadata": {},
     "output_type": "execute_result"
    }
   ],
   "source": [
    "# Look at first few rows of dataset\n",
    "nlsy97[0:5]"
   ]
  },
  {
   "cell_type": "code",
   "execution_count": 14,
   "id": "2be37d73",
   "metadata": {},
   "outputs": [
    {
     "data": {
      "text/html": [
       "<div>\n",
       "<style scoped>\n",
       "    .dataframe tbody tr th:only-of-type {\n",
       "        vertical-align: middle;\n",
       "    }\n",
       "\n",
       "    .dataframe tbody tr th {\n",
       "        vertical-align: top;\n",
       "    }\n",
       "\n",
       "    .dataframe thead th {\n",
       "        text-align: right;\n",
       "    }\n",
       "</style>\n",
       "<table border=\"1\" class=\"dataframe\">\n",
       "  <thead>\n",
       "    <tr style=\"text-align: right;\">\n",
       "      <th></th>\n",
       "      <th>Race</th>\n",
       "      <th>Prob</th>\n",
       "      <th>E_Earn</th>\n",
       "      <th>V_Earn</th>\n",
       "    </tr>\n",
       "  </thead>\n",
       "  <tbody>\n",
       "    <tr>\n",
       "      <th>0</th>\n",
       "      <td>Black</td>\n",
       "      <td>0.265715</td>\n",
       "      <td>39550.302303</td>\n",
       "      <td>1.933511e+09</td>\n",
       "    </tr>\n",
       "    <tr>\n",
       "      <th>1</th>\n",
       "      <td>Hispanic</td>\n",
       "      <td>0.193993</td>\n",
       "      <td>49646.781460</td>\n",
       "      <td>2.304671e+09</td>\n",
       "    </tr>\n",
       "    <tr>\n",
       "      <th>2</th>\n",
       "      <td>White</td>\n",
       "      <td>0.540292</td>\n",
       "      <td>64577.172952</td>\n",
       "      <td>3.927844e+09</td>\n",
       "    </tr>\n",
       "    <tr>\n",
       "      <th>3</th>\n",
       "      <td>Overall</td>\n",
       "      <td>1.000000</td>\n",
       "      <td>55030.771126</td>\n",
       "      <td>3.200760e+09</td>\n",
       "    </tr>\n",
       "  </tbody>\n",
       "</table>\n",
       "</div>"
      ],
      "text/plain": [
       "       Race      Prob        E_Earn        V_Earn\n",
       "0     Black  0.265715  39550.302303  1.933511e+09\n",
       "1  Hispanic  0.193993  49646.781460  2.304671e+09\n",
       "2     White  0.540292  64577.172952  3.927844e+09\n",
       "3   Overall  1.000000  55030.771126  3.200760e+09"
      ]
     },
     "execution_count": 14,
     "metadata": {},
     "output_type": "execute_result"
    }
   ],
   "source": [
    "# Compute population share and mean earnings and variance for Black respondents\n",
    "Pr_Black     = nlsy97['black'].mean()\n",
    "E_earn_Black = nlsy97['earnings'].loc[nlsy97['black']==1].mean()\n",
    "V_earn_Black = nlsy97['earnings'].loc[nlsy97['black']==1].var()\n",
    "\n",
    "# Compute population share and mean earnings and variance for Hispanic respondents\n",
    "Pr_Hispanic     = nlsy97['hispanic'].mean()\n",
    "E_earn_Hispanic = nlsy97['earnings'].loc[nlsy97['hispanic']==1].mean()\n",
    "V_earn_Hispanic = nlsy97['earnings'].loc[nlsy97['hispanic']==1].var()\n",
    "\n",
    "# Compute population share and mean earnings and variance for white respondents\n",
    "Pr_White     = 1 - Pr_Black - Pr_Hispanic\n",
    "E_earn_White = nlsy97['earnings'].loc[(nlsy97['black']==0) & (nlsy97['hispanic']==0)].mean()\n",
    "V_earn_White = nlsy97['earnings'].loc[(nlsy97['black']==0) & (nlsy97['hispanic']==0)].var()\n",
    "\n",
    "# Compute mean earnings and variance for across all respondents\n",
    "E_earn = nlsy97['earnings'].mean()\n",
    "V_earn= nlsy97['earnings'].var()\n",
    "\n",
    "# Collect calculations and put them in a dictionary\n",
    "Earnings_Decomp = {'Race' : ['Black', 'Hispanic', 'White', 'Overall'], 'Prob' : [Pr_Black, Pr_Hispanic, Pr_White, 1], \\\n",
    "                   'E_Earn' : [E_earn_Black, E_earn_Hispanic, E_earn_White, E_earn], \\\n",
    "                   'V_Earn' : [V_earn_Black, V_earn_Hispanic, V_earn_White, V_earn]}\n",
    "\n",
    "# Convert the dictionary to a DataFrame\n",
    "Earnings_Decomp = pd.DataFrame(Earnings_Decomp)\n",
    "Earnings_Decomp"
   ]
  },
  {
   "cell_type": "markdown",
   "id": "8a5aff70",
   "metadata": {},
   "source": [
    "### Part II: Experimental design"
   ]
  },
  {
   "cell_type": "code",
   "execution_count": null,
   "id": "826c44d5",
   "metadata": {},
   "outputs": [],
   "source": []
  }
 ],
 "metadata": {
  "kernelspec": {
   "display_name": "Python 3",
   "language": "python",
   "name": "python3"
  },
  "language_info": {
   "codemirror_mode": {
    "name": "ipython",
    "version": 3
   },
   "file_extension": ".py",
   "mimetype": "text/x-python",
   "name": "python",
   "nbconvert_exporter": "python",
   "pygments_lexer": "ipython3",
   "version": "3.11.5"
  }
 },
 "nbformat": 4,
 "nbformat_minor": 5
}
